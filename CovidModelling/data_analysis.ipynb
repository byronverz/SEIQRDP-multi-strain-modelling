{
 "cells": [
  {
   "cell_type": "code",
   "execution_count": 1,
   "metadata": {
    "collapsed": true
   },
   "outputs": [],
   "source": [
    "import numpy as np\n",
    "import matplotlib.pyplot as plt\n",
    "import pandas as pd"
   ]
  },
  {
   "cell_type": "code",
   "execution_count": 2,
   "outputs": [
    {
     "data": {
      "text/plain": "  Province/State Country/Region       Lat       Long  1/22/20  1/23/20  \\\n0            NaN    Afghanistan  33.93911  67.709953        0        0   \n1            NaN        Albania  41.15330  20.168300        0        0   \n2            NaN        Algeria  28.03390   1.659600        0        0   \n3            NaN        Andorra  42.50630   1.521800        0        0   \n4            NaN         Angola -11.20270  17.873900        0        0   \n\n   1/24/20  1/25/20  1/26/20  1/27/20  ...  9/30/21  10/1/21  10/2/21  \\\n0        0        0        0        0  ...   155174   155191   155191   \n1        0        0        0        0  ...   170131   170778   171327   \n2        0        0        0        0  ...   203359   203517   203657   \n3        0        0        0        0  ...    15222    15222    15222   \n4        0        0        0        0  ...    56583    58076    58603   \n\n   10/3/21  10/4/21  10/5/21  10/6/21  10/7/21  10/8/21  10/9/21  \n0   155191   155287   155309   155380   155429   155448   155466  \n1   171794   171794   172618   173190   173723   174168   174643  \n2   203789   203915   204046   204171   204276   204388   204490  \n3    15222    15267    15271    15284    15288    15291    15291  \n4    58943    58943    59895    60448    60803    61023    61245  \n\n[5 rows x 631 columns]",
      "text/html": "<div>\n<style scoped>\n    .dataframe tbody tr th:only-of-type {\n        vertical-align: middle;\n    }\n\n    .dataframe tbody tr th {\n        vertical-align: top;\n    }\n\n    .dataframe thead th {\n        text-align: right;\n    }\n</style>\n<table border=\"1\" class=\"dataframe\">\n  <thead>\n    <tr style=\"text-align: right;\">\n      <th></th>\n      <th>Province/State</th>\n      <th>Country/Region</th>\n      <th>Lat</th>\n      <th>Long</th>\n      <th>1/22/20</th>\n      <th>1/23/20</th>\n      <th>1/24/20</th>\n      <th>1/25/20</th>\n      <th>1/26/20</th>\n      <th>1/27/20</th>\n      <th>...</th>\n      <th>9/30/21</th>\n      <th>10/1/21</th>\n      <th>10/2/21</th>\n      <th>10/3/21</th>\n      <th>10/4/21</th>\n      <th>10/5/21</th>\n      <th>10/6/21</th>\n      <th>10/7/21</th>\n      <th>10/8/21</th>\n      <th>10/9/21</th>\n    </tr>\n  </thead>\n  <tbody>\n    <tr>\n      <th>0</th>\n      <td>NaN</td>\n      <td>Afghanistan</td>\n      <td>33.93911</td>\n      <td>67.709953</td>\n      <td>0</td>\n      <td>0</td>\n      <td>0</td>\n      <td>0</td>\n      <td>0</td>\n      <td>0</td>\n      <td>...</td>\n      <td>155174</td>\n      <td>155191</td>\n      <td>155191</td>\n      <td>155191</td>\n      <td>155287</td>\n      <td>155309</td>\n      <td>155380</td>\n      <td>155429</td>\n      <td>155448</td>\n      <td>155466</td>\n    </tr>\n    <tr>\n      <th>1</th>\n      <td>NaN</td>\n      <td>Albania</td>\n      <td>41.15330</td>\n      <td>20.168300</td>\n      <td>0</td>\n      <td>0</td>\n      <td>0</td>\n      <td>0</td>\n      <td>0</td>\n      <td>0</td>\n      <td>...</td>\n      <td>170131</td>\n      <td>170778</td>\n      <td>171327</td>\n      <td>171794</td>\n      <td>171794</td>\n      <td>172618</td>\n      <td>173190</td>\n      <td>173723</td>\n      <td>174168</td>\n      <td>174643</td>\n    </tr>\n    <tr>\n      <th>2</th>\n      <td>NaN</td>\n      <td>Algeria</td>\n      <td>28.03390</td>\n      <td>1.659600</td>\n      <td>0</td>\n      <td>0</td>\n      <td>0</td>\n      <td>0</td>\n      <td>0</td>\n      <td>0</td>\n      <td>...</td>\n      <td>203359</td>\n      <td>203517</td>\n      <td>203657</td>\n      <td>203789</td>\n      <td>203915</td>\n      <td>204046</td>\n      <td>204171</td>\n      <td>204276</td>\n      <td>204388</td>\n      <td>204490</td>\n    </tr>\n    <tr>\n      <th>3</th>\n      <td>NaN</td>\n      <td>Andorra</td>\n      <td>42.50630</td>\n      <td>1.521800</td>\n      <td>0</td>\n      <td>0</td>\n      <td>0</td>\n      <td>0</td>\n      <td>0</td>\n      <td>0</td>\n      <td>...</td>\n      <td>15222</td>\n      <td>15222</td>\n      <td>15222</td>\n      <td>15222</td>\n      <td>15267</td>\n      <td>15271</td>\n      <td>15284</td>\n      <td>15288</td>\n      <td>15291</td>\n      <td>15291</td>\n    </tr>\n    <tr>\n      <th>4</th>\n      <td>NaN</td>\n      <td>Angola</td>\n      <td>-11.20270</td>\n      <td>17.873900</td>\n      <td>0</td>\n      <td>0</td>\n      <td>0</td>\n      <td>0</td>\n      <td>0</td>\n      <td>0</td>\n      <td>...</td>\n      <td>56583</td>\n      <td>58076</td>\n      <td>58603</td>\n      <td>58943</td>\n      <td>58943</td>\n      <td>59895</td>\n      <td>60448</td>\n      <td>60803</td>\n      <td>61023</td>\n      <td>61245</td>\n    </tr>\n  </tbody>\n</table>\n<p>5 rows × 631 columns</p>\n</div>"
     },
     "execution_count": 2,
     "metadata": {},
     "output_type": "execute_result"
    }
   ],
   "source": [
    "confirmed = pd.read_csv('data/time_series_covid19_confirmed_global.csv')\n",
    "confirmed.head()"
   ],
   "metadata": {
    "collapsed": false,
    "pycharm": {
     "name": "#%%\n"
    }
   }
  },
  {
   "cell_type": "code",
   "execution_count": 3,
   "outputs": [
    {
     "data": {
      "text/plain": "  Province/State Country/Region       Lat       Long  1/22/20  1/23/20  \\\n0            NaN    Afghanistan  33.93911  67.709953        0        0   \n1            NaN        Albania  41.15330  20.168300        0        0   \n2            NaN        Algeria  28.03390   1.659600        0        0   \n3            NaN        Andorra  42.50630   1.521800        0        0   \n4            NaN         Angola -11.20270  17.873900        0        0   \n\n   1/24/20  1/25/20  1/26/20  1/27/20  ...  9/30/21  10/1/21  10/2/21  \\\n0        0        0        0        0  ...        0        0        0   \n1        0        0        0        0  ...        0        0        0   \n2        0        0        0        0  ...        0        0        0   \n3        0        0        0        0  ...        0        0        0   \n4        0        0        0        0  ...        0        0        0   \n\n   10/3/21  10/4/21  10/5/21  10/6/21  10/7/21  10/8/21  10/9/21  \n0        0        0        0        0        0        0        0  \n1        0        0        0        0        0        0        0  \n2        0        0        0        0        0        0        0  \n3        0        0        0        0        0        0        0  \n4        0        0        0        0        0        0        0  \n\n[5 rows x 631 columns]",
      "text/html": "<div>\n<style scoped>\n    .dataframe tbody tr th:only-of-type {\n        vertical-align: middle;\n    }\n\n    .dataframe tbody tr th {\n        vertical-align: top;\n    }\n\n    .dataframe thead th {\n        text-align: right;\n    }\n</style>\n<table border=\"1\" class=\"dataframe\">\n  <thead>\n    <tr style=\"text-align: right;\">\n      <th></th>\n      <th>Province/State</th>\n      <th>Country/Region</th>\n      <th>Lat</th>\n      <th>Long</th>\n      <th>1/22/20</th>\n      <th>1/23/20</th>\n      <th>1/24/20</th>\n      <th>1/25/20</th>\n      <th>1/26/20</th>\n      <th>1/27/20</th>\n      <th>...</th>\n      <th>9/30/21</th>\n      <th>10/1/21</th>\n      <th>10/2/21</th>\n      <th>10/3/21</th>\n      <th>10/4/21</th>\n      <th>10/5/21</th>\n      <th>10/6/21</th>\n      <th>10/7/21</th>\n      <th>10/8/21</th>\n      <th>10/9/21</th>\n    </tr>\n  </thead>\n  <tbody>\n    <tr>\n      <th>0</th>\n      <td>NaN</td>\n      <td>Afghanistan</td>\n      <td>33.93911</td>\n      <td>67.709953</td>\n      <td>0</td>\n      <td>0</td>\n      <td>0</td>\n      <td>0</td>\n      <td>0</td>\n      <td>0</td>\n      <td>...</td>\n      <td>0</td>\n      <td>0</td>\n      <td>0</td>\n      <td>0</td>\n      <td>0</td>\n      <td>0</td>\n      <td>0</td>\n      <td>0</td>\n      <td>0</td>\n      <td>0</td>\n    </tr>\n    <tr>\n      <th>1</th>\n      <td>NaN</td>\n      <td>Albania</td>\n      <td>41.15330</td>\n      <td>20.168300</td>\n      <td>0</td>\n      <td>0</td>\n      <td>0</td>\n      <td>0</td>\n      <td>0</td>\n      <td>0</td>\n      <td>...</td>\n      <td>0</td>\n      <td>0</td>\n      <td>0</td>\n      <td>0</td>\n      <td>0</td>\n      <td>0</td>\n      <td>0</td>\n      <td>0</td>\n      <td>0</td>\n      <td>0</td>\n    </tr>\n    <tr>\n      <th>2</th>\n      <td>NaN</td>\n      <td>Algeria</td>\n      <td>28.03390</td>\n      <td>1.659600</td>\n      <td>0</td>\n      <td>0</td>\n      <td>0</td>\n      <td>0</td>\n      <td>0</td>\n      <td>0</td>\n      <td>...</td>\n      <td>0</td>\n      <td>0</td>\n      <td>0</td>\n      <td>0</td>\n      <td>0</td>\n      <td>0</td>\n      <td>0</td>\n      <td>0</td>\n      <td>0</td>\n      <td>0</td>\n    </tr>\n    <tr>\n      <th>3</th>\n      <td>NaN</td>\n      <td>Andorra</td>\n      <td>42.50630</td>\n      <td>1.521800</td>\n      <td>0</td>\n      <td>0</td>\n      <td>0</td>\n      <td>0</td>\n      <td>0</td>\n      <td>0</td>\n      <td>...</td>\n      <td>0</td>\n      <td>0</td>\n      <td>0</td>\n      <td>0</td>\n      <td>0</td>\n      <td>0</td>\n      <td>0</td>\n      <td>0</td>\n      <td>0</td>\n      <td>0</td>\n    </tr>\n    <tr>\n      <th>4</th>\n      <td>NaN</td>\n      <td>Angola</td>\n      <td>-11.20270</td>\n      <td>17.873900</td>\n      <td>0</td>\n      <td>0</td>\n      <td>0</td>\n      <td>0</td>\n      <td>0</td>\n      <td>0</td>\n      <td>...</td>\n      <td>0</td>\n      <td>0</td>\n      <td>0</td>\n      <td>0</td>\n      <td>0</td>\n      <td>0</td>\n      <td>0</td>\n      <td>0</td>\n      <td>0</td>\n      <td>0</td>\n    </tr>\n  </tbody>\n</table>\n<p>5 rows × 631 columns</p>\n</div>"
     },
     "execution_count": 3,
     "metadata": {},
     "output_type": "execute_result"
    }
   ],
   "source": [
    "recovered = pd.read_csv('data/time_series_covid19_recovered_global.csv')\n",
    "recovered.head()"
   ],
   "metadata": {
    "collapsed": false,
    "pycharm": {
     "name": "#%%\n"
    }
   }
  },
  {
   "cell_type": "code",
   "execution_count": 4,
   "outputs": [
    {
     "data": {
      "text/plain": "  Province/State Country/Region       Lat       Long  1/22/20  1/23/20  \\\n0            NaN    Afghanistan  33.93911  67.709953        0        0   \n1            NaN        Albania  41.15330  20.168300        0        0   \n2            NaN        Algeria  28.03390   1.659600        0        0   \n3            NaN        Andorra  42.50630   1.521800        0        0   \n4            NaN         Angola -11.20270  17.873900        0        0   \n\n   1/24/20  1/25/20  1/26/20  1/27/20  ...  9/30/21  10/1/21  10/2/21  \\\n0        0        0        0        0  ...     7204     7206     7206   \n1        0        0        0        0  ...     2698     2705     2710   \n2        0        0        0        0  ...     5812     5815     5819   \n3        0        0        0        0  ...      130      130      130   \n4        0        0        0        0  ...     1537     1567     1574   \n\n   10/3/21  10/4/21  10/5/21  10/6/21  10/7/21  10/8/21  10/9/21  \n0     7206     7212     7214     7220     7221     7221     7221  \n1     2713     2713     2725     2734     2746     2753     2759  \n2     5822     5826     5831     5838     5843     5846     5850  \n3      130      130      130      130      130      130      130  \n4     1577     1577     1587     1598     1603     1613     1618  \n\n[5 rows x 631 columns]",
      "text/html": "<div>\n<style scoped>\n    .dataframe tbody tr th:only-of-type {\n        vertical-align: middle;\n    }\n\n    .dataframe tbody tr th {\n        vertical-align: top;\n    }\n\n    .dataframe thead th {\n        text-align: right;\n    }\n</style>\n<table border=\"1\" class=\"dataframe\">\n  <thead>\n    <tr style=\"text-align: right;\">\n      <th></th>\n      <th>Province/State</th>\n      <th>Country/Region</th>\n      <th>Lat</th>\n      <th>Long</th>\n      <th>1/22/20</th>\n      <th>1/23/20</th>\n      <th>1/24/20</th>\n      <th>1/25/20</th>\n      <th>1/26/20</th>\n      <th>1/27/20</th>\n      <th>...</th>\n      <th>9/30/21</th>\n      <th>10/1/21</th>\n      <th>10/2/21</th>\n      <th>10/3/21</th>\n      <th>10/4/21</th>\n      <th>10/5/21</th>\n      <th>10/6/21</th>\n      <th>10/7/21</th>\n      <th>10/8/21</th>\n      <th>10/9/21</th>\n    </tr>\n  </thead>\n  <tbody>\n    <tr>\n      <th>0</th>\n      <td>NaN</td>\n      <td>Afghanistan</td>\n      <td>33.93911</td>\n      <td>67.709953</td>\n      <td>0</td>\n      <td>0</td>\n      <td>0</td>\n      <td>0</td>\n      <td>0</td>\n      <td>0</td>\n      <td>...</td>\n      <td>7204</td>\n      <td>7206</td>\n      <td>7206</td>\n      <td>7206</td>\n      <td>7212</td>\n      <td>7214</td>\n      <td>7220</td>\n      <td>7221</td>\n      <td>7221</td>\n      <td>7221</td>\n    </tr>\n    <tr>\n      <th>1</th>\n      <td>NaN</td>\n      <td>Albania</td>\n      <td>41.15330</td>\n      <td>20.168300</td>\n      <td>0</td>\n      <td>0</td>\n      <td>0</td>\n      <td>0</td>\n      <td>0</td>\n      <td>0</td>\n      <td>...</td>\n      <td>2698</td>\n      <td>2705</td>\n      <td>2710</td>\n      <td>2713</td>\n      <td>2713</td>\n      <td>2725</td>\n      <td>2734</td>\n      <td>2746</td>\n      <td>2753</td>\n      <td>2759</td>\n    </tr>\n    <tr>\n      <th>2</th>\n      <td>NaN</td>\n      <td>Algeria</td>\n      <td>28.03390</td>\n      <td>1.659600</td>\n      <td>0</td>\n      <td>0</td>\n      <td>0</td>\n      <td>0</td>\n      <td>0</td>\n      <td>0</td>\n      <td>...</td>\n      <td>5812</td>\n      <td>5815</td>\n      <td>5819</td>\n      <td>5822</td>\n      <td>5826</td>\n      <td>5831</td>\n      <td>5838</td>\n      <td>5843</td>\n      <td>5846</td>\n      <td>5850</td>\n    </tr>\n    <tr>\n      <th>3</th>\n      <td>NaN</td>\n      <td>Andorra</td>\n      <td>42.50630</td>\n      <td>1.521800</td>\n      <td>0</td>\n      <td>0</td>\n      <td>0</td>\n      <td>0</td>\n      <td>0</td>\n      <td>0</td>\n      <td>...</td>\n      <td>130</td>\n      <td>130</td>\n      <td>130</td>\n      <td>130</td>\n      <td>130</td>\n      <td>130</td>\n      <td>130</td>\n      <td>130</td>\n      <td>130</td>\n      <td>130</td>\n    </tr>\n    <tr>\n      <th>4</th>\n      <td>NaN</td>\n      <td>Angola</td>\n      <td>-11.20270</td>\n      <td>17.873900</td>\n      <td>0</td>\n      <td>0</td>\n      <td>0</td>\n      <td>0</td>\n      <td>0</td>\n      <td>0</td>\n      <td>...</td>\n      <td>1537</td>\n      <td>1567</td>\n      <td>1574</td>\n      <td>1577</td>\n      <td>1577</td>\n      <td>1587</td>\n      <td>1598</td>\n      <td>1603</td>\n      <td>1613</td>\n      <td>1618</td>\n    </tr>\n  </tbody>\n</table>\n<p>5 rows × 631 columns</p>\n</div>"
     },
     "execution_count": 4,
     "metadata": {},
     "output_type": "execute_result"
    }
   ],
   "source": [
    "death = pd.read_csv('data/time_series_covid19_deaths_global.csv')\n",
    "death.head()"
   ],
   "metadata": {
    "collapsed": false,
    "pycharm": {
     "name": "#%%\n"
    }
   }
  },
  {
   "cell_type": "code",
   "execution_count": 5,
   "outputs": [
    {
     "name": "stdout",
     "output_type": "stream",
     "text": [
      "Initial South African figures for 23 March 2020\n",
      "Confirmed: [202]\n",
      "Recovered: [0]\n",
      "Deaths: [0]\n"
     ]
    }
   ],
   "source": [
    "print(\"Initial South African figures for 23 March 2020\")\n",
    "confirmed_sa = confirmed[confirmed['Country/Region']=='South Africa']\n",
    "recovered_sa = recovered[recovered['Country/Region']=='South Africa']\n",
    "death_sa = death[death['Country/Region']=='South Africa']\n",
    "print(\"Confirmed: {}\".format(confirmed_sa['3/20/20'].values))\n",
    "print(\"Recovered: {}\".format(recovered_sa['3/23/20'].values))\n",
    "print(\"Deaths: {}\".format(death_sa['3/23/20'].values))"
   ],
   "metadata": {
    "collapsed": false,
    "pycharm": {
     "name": "#%%\n"
    }
   }
  },
  {
   "cell_type": "code",
   "execution_count": 6,
   "outputs": [
    {
     "data": {
      "text/plain": "<AxesSubplot:>"
     },
     "execution_count": 6,
     "metadata": {},
     "output_type": "execute_result"
    },
    {
     "data": {
      "text/plain": "<Figure size 432x288 with 1 Axes>",
      "image/png": "[encoded data removed]"
     },
     "metadata": {
      "needs_background": "light"
     },
     "output_type": "display_data"
    },
    {
     "data": {
      "text/plain": "<Figure size 432x288 with 1 Axes>",
      "image/png": "[encoded data removed]"
     },
     "metadata": {
      "needs_background": "light"
     },
     "output_type": "display_data"
    },
    {
     "data": {
      "text/plain": "<Figure size 432x288 with 1 Axes>",
      "image/png": "[encoded data removed]"
     },
     "metadata": {
      "needs_background": "light"
     },
     "output_type": "display_data"
    }
   ],
   "source": [
    "confirmed_sa.iloc[:,3:].transpose().plot()\n",
    "recovered_sa.iloc[:,3:].transpose().plot()\n",
    "death_sa.iloc[:,3:].transpose().plot()"
   ],
   "metadata": {
    "collapsed": false,
    "pycharm": {
     "name": "#%%\n"
    }
   }
  },
  {
   "cell_type": "code",
   "execution_count": 7,
   "outputs": [],
   "source": [
    "strain_data =  {\n",
    "      \"week\": [\n",
    "        \"2020-04-27\",\n",
    "        \"2020-05-11\",\n",
    "        \"2020-05-25\",\n",
    "        \"2020-06-08\",\n",
    "        \"2020-06-22\",\n",
    "        \"2020-07-06\",\n",
    "        \"2020-07-20\",\n",
    "        \"2020-08-03\",\n",
    "        \"2020-08-17\",\n",
    "        \"2020-08-31\",\n",
    "        \"2020-09-14\",\n",
    "        \"2020-09-28\",\n",
    "        \"2020-10-12\",\n",
    "        \"2020-10-26\",\n",
    "        \"2020-11-09\",\n",
    "        \"2020-11-23\",\n",
    "        \"2020-12-07\",\n",
    "        \"2020-12-21\",\n",
    "        \"2020-12-28\",\n",
    "        \"2021-01-11\",\n",
    "        \"2021-01-25\",\n",
    "        \"2021-02-08\",\n",
    "        \"2021-02-22\",\n",
    "        \"2021-03-08\",\n",
    "        \"2021-03-22\",\n",
    "        \"2021-04-05\",\n",
    "        \"2021-04-19\",\n",
    "        \"2021-05-03\",\n",
    "        \"2021-05-17\",\n",
    "        \"2021-05-31\",\n",
    "        \"2021-06-14\",\n",
    "        \"2021-06-28\",\n",
    "        \"2021-07-12\",\n",
    "        \"2021-07-26\",\n",
    "        \"2021-08-09\",\n",
    "        \"2021-08-23\",\n",
    "        \"2021-09-06\",\n",
    "        \"2021-09-20\",\n",
    "        \"2021-10-04\"\n",
    "      ],\n",
    "      \"total_sequences\": [\n",
    "        135,\n",
    "        93,\n",
    "        105,\n",
    "        189,\n",
    "        255,\n",
    "        441,\n",
    "        459,\n",
    "        215,\n",
    "        123,\n",
    "        352,\n",
    "        209,\n",
    "        298,\n",
    "        337,\n",
    "        464,\n",
    "        400,\n",
    "        484,\n",
    "        536,\n",
    "        767,\n",
    "        649,\n",
    "        566,\n",
    "        391,\n",
    "        291,\n",
    "        220,\n",
    "        442,\n",
    "        322,\n",
    "        250,\n",
    "        389,\n",
    "        538,\n",
    "        631,\n",
    "        1071,\n",
    "        1613,\n",
    "        2210,\n",
    "        1606,\n",
    "        1463,\n",
    "        1140,\n",
    "        1205,\n",
    "        856,\n",
    "        325,\n",
    "        100\n",
    "      ],\n",
    "      \"20I (Alpha, V1)\": [\n",
    "        0.0,\n",
    "        0.0,\n",
    "        0.0,\n",
    "        0.0,\n",
    "        0.0,\n",
    "        0.0,\n",
    "        0.0,\n",
    "        0.0,\n",
    "        0.0,\n",
    "        0.0,\n",
    "        0.0,\n",
    "        0.0,\n",
    "        0.0,\n",
    "        0.0,\n",
    "        0.0,\n",
    "        0.0,\n",
    "        0.0,\n",
    "        0.0,\n",
    "        3.0,\n",
    "        0.0,\n",
    "        0.0,\n",
    "        2.0,\n",
    "        2.0,\n",
    "        10.0,\n",
    "        6.0,\n",
    "        3.0,\n",
    "        18.0,\n",
    "        24.0,\n",
    "        44.0,\n",
    "        55.0,\n",
    "        45.0,\n",
    "        15.0,\n",
    "        5.0,\n",
    "        2.0,\n",
    "        0.0,\n",
    "        2.0,\n",
    "        0.0,\n",
    "        0.0,\n",
    "        0.0\n",
    "      ],\n",
    "      \"20H (Beta, V2)\": [\n",
    "        0.0,\n",
    "        0.0,\n",
    "        0.0,\n",
    "        0.0,\n",
    "        0.0,\n",
    "        0.0,\n",
    "        0.0,\n",
    "        0.0,\n",
    "        13.0,\n",
    "        44.0,\n",
    "        60.0,\n",
    "        59.0,\n",
    "        138.0,\n",
    "        251.0,\n",
    "        297.0,\n",
    "        427.0,\n",
    "        507.0,\n",
    "        735.0,\n",
    "        588.0,\n",
    "        540.0,\n",
    "        380.0,\n",
    "        284.0,\n",
    "        215.0,\n",
    "        390.0,\n",
    "        274.0,\n",
    "        221.0,\n",
    "        331.0,\n",
    "        399.0,\n",
    "        395.0,\n",
    "        419.0,\n",
    "        182.0,\n",
    "        100.0,\n",
    "        24.0,\n",
    "        14.0,\n",
    "        3.0,\n",
    "        6.0,\n",
    "        0.0,\n",
    "        4.0,\n",
    "        1.0\n",
    "      ],\n",
    "      \"21A (Delta)\": [\n",
    "        0.0,\n",
    "        0.0,\n",
    "        0.0,\n",
    "        0.0,\n",
    "        0.0,\n",
    "        0.0,\n",
    "        0.0,\n",
    "        0.0,\n",
    "        0.0,\n",
    "        0.0,\n",
    "        0.0,\n",
    "        0.0,\n",
    "        0.0,\n",
    "        0.0,\n",
    "        0.0,\n",
    "        0.0,\n",
    "        0.0,\n",
    "        0.0,\n",
    "        0.0,\n",
    "        0.0,\n",
    "        0.0,\n",
    "        0.0,\n",
    "        0.0,\n",
    "        2.0,\n",
    "        3.0,\n",
    "        1.0,\n",
    "        3.0,\n",
    "        16.0,\n",
    "        15.0,\n",
    "        55.0,\n",
    "        77.0,\n",
    "        103.0,\n",
    "        42.0,\n",
    "        45.0,\n",
    "        17.0,\n",
    "        27.0,\n",
    "        18.0,\n",
    "        2.0,\n",
    "        3.0\n",
    "      ],\n",
    "      \"21I (Delta)\": [\n",
    "        0.0,\n",
    "        0.0,\n",
    "        0.0,\n",
    "        0.0,\n",
    "        0.0,\n",
    "        0.0,\n",
    "        0.0,\n",
    "        0.0,\n",
    "        0.0,\n",
    "        0.0,\n",
    "        0.0,\n",
    "        0.0,\n",
    "        0.0,\n",
    "        0.0,\n",
    "        0.0,\n",
    "        0.0,\n",
    "        0.0,\n",
    "        0.0,\n",
    "        0.0,\n",
    "        0.0,\n",
    "        0.0,\n",
    "        0.0,\n",
    "        0.0,\n",
    "        0.0,\n",
    "        0.0,\n",
    "        0.0,\n",
    "        0.0,\n",
    "        2.0,\n",
    "        13.0,\n",
    "        77.0,\n",
    "        317.0,\n",
    "        355.0,\n",
    "        251.0,\n",
    "        162.0,\n",
    "        126.0,\n",
    "        109.0,\n",
    "        50.0,\n",
    "        17.0,\n",
    "        2.0\n",
    "      ],\n",
    "      \"21J (Delta)\": [\n",
    "        0.0,\n",
    "        0.0,\n",
    "        0.0,\n",
    "        0.0,\n",
    "        0.0,\n",
    "        0.0,\n",
    "        0.0,\n",
    "        0.0,\n",
    "        0.0,\n",
    "        0.0,\n",
    "        0.0,\n",
    "        0.0,\n",
    "        0.0,\n",
    "        0.0,\n",
    "        0.0,\n",
    "        0.0,\n",
    "        0.0,\n",
    "        0.0,\n",
    "        0.0,\n",
    "        1.0,\n",
    "        1.0,\n",
    "        0.0,\n",
    "        1.0,\n",
    "        23.0,\n",
    "        18.0,\n",
    "        6.0,\n",
    "        4.0,\n",
    "        27.0,\n",
    "        102.0,\n",
    "        355.0,\n",
    "        868.0,\n",
    "        1506.0,\n",
    "        1222.0,\n",
    "        1187.0,\n",
    "        972.0,\n",
    "        1032.0,\n",
    "        753.0,\n",
    "        289.0,\n",
    "        94.0\n",
    "      ],\n",
    "      \"21B (Kappa)\": [\n",
    "        0.0,\n",
    "        0.0,\n",
    "        0.0,\n",
    "        0.0,\n",
    "        0.0,\n",
    "        0.0,\n",
    "        0.0,\n",
    "        0.0,\n",
    "        0.0,\n",
    "        0.0,\n",
    "        0.0,\n",
    "        0.0,\n",
    "        0.0,\n",
    "        0.0,\n",
    "        0.0,\n",
    "        0.0,\n",
    "        0.0,\n",
    "        0.0,\n",
    "        0.0,\n",
    "        0.0,\n",
    "        0.0,\n",
    "        0.0,\n",
    "        0.0,\n",
    "        0.0,\n",
    "        0.0,\n",
    "        0.0,\n",
    "        1.0,\n",
    "        0.0,\n",
    "        1.0,\n",
    "        10.0,\n",
    "        1.0,\n",
    "        1.0,\n",
    "        1.0,\n",
    "        0.0,\n",
    "        0.0,\n",
    "        0.0,\n",
    "        0.0,\n",
    "        0.0,\n",
    "        0.0\n",
    "      ],\n",
    "      \"21D (Eta)\": [\n",
    "        0.0,\n",
    "        0.0,\n",
    "        0.0,\n",
    "        0.0,\n",
    "        0.0,\n",
    "        0.0,\n",
    "        0.0,\n",
    "        0.0,\n",
    "        0.0,\n",
    "        0.0,\n",
    "        0.0,\n",
    "        0.0,\n",
    "        0.0,\n",
    "        0.0,\n",
    "        0.0,\n",
    "        0.0,\n",
    "        0.0,\n",
    "        0.0,\n",
    "        0.0,\n",
    "        0.0,\n",
    "        0.0,\n",
    "        0.0,\n",
    "        0.0,\n",
    "        1.0,\n",
    "        0.0,\n",
    "        1.0,\n",
    "        1.0,\n",
    "        6.0,\n",
    "        3.0,\n",
    "        0.0,\n",
    "        0.0,\n",
    "        0.0,\n",
    "        0.0,\n",
    "        0.0,\n",
    "        0.0,\n",
    "        0.0,\n",
    "        0.0,\n",
    "        0.0,\n",
    "        0.0\n",
    "      ],\n",
    "      \"21F (Iota)\": [\n",
    "        0.0,\n",
    "        0.0,\n",
    "        0.0,\n",
    "        0.0,\n",
    "        0.0,\n",
    "        0.0,\n",
    "        0.0,\n",
    "        0.0,\n",
    "        0.0,\n",
    "        0.0,\n",
    "        0.0,\n",
    "        0.0,\n",
    "        0.0,\n",
    "        0.0,\n",
    "        0.0,\n",
    "        0.0,\n",
    "        0.0,\n",
    "        0.0,\n",
    "        0.0,\n",
    "        1.0,\n",
    "        0.0,\n",
    "        0.0,\n",
    "        0.0,\n",
    "        0.0,\n",
    "        0.0,\n",
    "        0.0,\n",
    "        0.0,\n",
    "        0.0,\n",
    "        0.0,\n",
    "        0.0,\n",
    "        0.0,\n",
    "        0.0,\n",
    "        0.0,\n",
    "        0.0,\n",
    "        0.0,\n",
    "        0.0,\n",
    "        0.0,\n",
    "        0.0,\n",
    "        0.0\n",
    "      ]\n",
    "    }\n",
    "strain_df = pd.DataFrame(strain_data)"
   ],
   "metadata": {
    "collapsed": false,
    "pycharm": {
     "name": "#%%\n"
    }
   }
  },
  {
   "cell_type": "code",
   "execution_count": 8,
   "outputs": [
    {
     "data": {
      "text/plain": "         week  total_sequences  20I (Alpha, V1)  20H (Beta, V2)  21B (Kappa)  \\\n0  2020-04-27              135              0.0             0.0          0.0   \n1  2020-05-11               93              0.0             0.0          0.0   \n2  2020-05-25              105              0.0             0.0          0.0   \n3  2020-06-08              189              0.0             0.0          0.0   \n4  2020-06-22              255              0.0             0.0          0.0   \n\n   21D (Eta)  21F (Iota)  Delta  \n0        0.0         0.0    0.0  \n1        0.0         0.0    0.0  \n2        0.0         0.0    0.0  \n3        0.0         0.0    0.0  \n4        0.0         0.0    0.0  ",
      "text/html": "<div>\n<style scoped>\n    .dataframe tbody tr th:only-of-type {\n        vertical-align: middle;\n    }\n\n    .dataframe tbody tr th {\n        vertical-align: top;\n    }\n\n    .dataframe thead th {\n        text-align: right;\n    }\n</style>\n<table border=\"1\" class=\"dataframe\">\n  <thead>\n    <tr style=\"text-align: right;\">\n      <th></th>\n      <th>week</th>\n      <th>total_sequences</th>\n      <th>20I (Alpha, V1)</th>\n      <th>20H (Beta, V2)</th>\n      <th>21B (Kappa)</th>\n      <th>21D (Eta)</th>\n      <th>21F (Iota)</th>\n      <th>Delta</th>\n    </tr>\n  </thead>\n  <tbody>\n    <tr>\n      <th>0</th>\n      <td>2020-04-27</td>\n      <td>135</td>\n      <td>0.0</td>\n      <td>0.0</td>\n      <td>0.0</td>\n      <td>0.0</td>\n      <td>0.0</td>\n      <td>0.0</td>\n    </tr>\n    <tr>\n      <th>1</th>\n      <td>2020-05-11</td>\n      <td>93</td>\n      <td>0.0</td>\n      <td>0.0</td>\n      <td>0.0</td>\n      <td>0.0</td>\n      <td>0.0</td>\n      <td>0.0</td>\n    </tr>\n    <tr>\n      <th>2</th>\n      <td>2020-05-25</td>\n      <td>105</td>\n      <td>0.0</td>\n      <td>0.0</td>\n      <td>0.0</td>\n      <td>0.0</td>\n      <td>0.0</td>\n      <td>0.0</td>\n    </tr>\n    <tr>\n      <th>3</th>\n      <td>2020-06-08</td>\n      <td>189</td>\n      <td>0.0</td>\n      <td>0.0</td>\n      <td>0.0</td>\n      <td>0.0</td>\n      <td>0.0</td>\n      <td>0.0</td>\n    </tr>\n    <tr>\n      <th>4</th>\n      <td>2020-06-22</td>\n      <td>255</td>\n      <td>0.0</td>\n      <td>0.0</td>\n      <td>0.0</td>\n      <td>0.0</td>\n      <td>0.0</td>\n      <td>0.0</td>\n    </tr>\n  </tbody>\n</table>\n</div>"
     },
     "execution_count": 8,
     "metadata": {},
     "output_type": "execute_result"
    }
   ],
   "source": [
    "# Add delta variants together\n",
    "strain_df['Delta'] = strain_df[['21A (Delta)','21I (Delta)','21J (Delta)']].sum(axis=1)\n",
    "strain_df.drop(columns=['21A (Delta)','21I (Delta)','21J (Delta)'],inplace=True)\n",
    "strain_df.head()"
   ],
   "metadata": {
    "collapsed": false,
    "pycharm": {
     "name": "#%%\n"
    }
   }
  },
  {
   "cell_type": "code",
   "execution_count": 9,
   "outputs": [
    {
     "data": {
      "text/plain": "         week  total_sequences  Alpha  Beta  Kappa  Eta  Iota  Delta\n0  2020-04-27              135    0.0   0.0    0.0  0.0   0.0    0.0\n1  2020-05-11               93    0.0   0.0    0.0  0.0   0.0    0.0\n2  2020-05-25              105    0.0   0.0    0.0  0.0   0.0    0.0\n3  2020-06-08              189    0.0   0.0    0.0  0.0   0.0    0.0\n4  2020-06-22              255    0.0   0.0    0.0  0.0   0.0    0.0",
      "text/html": "<div>\n<style scoped>\n    .dataframe tbody tr th:only-of-type {\n        vertical-align: middle;\n    }\n\n    .dataframe tbody tr th {\n        vertical-align: top;\n    }\n\n    .dataframe thead th {\n        text-align: right;\n    }\n</style>\n<table border=\"1\" class=\"dataframe\">\n  <thead>\n    <tr style=\"text-align: right;\">\n      <th></th>\n      <th>week</th>\n      <th>total_sequences</th>\n      <th>Alpha</th>\n      <th>Beta</th>\n      <th>Kappa</th>\n      <th>Eta</th>\n      <th>Iota</th>\n      <th>Delta</th>\n    </tr>\n  </thead>\n  <tbody>\n    <tr>\n      <th>0</th>\n      <td>2020-04-27</td>\n      <td>135</td>\n      <td>0.0</td>\n      <td>0.0</td>\n      <td>0.0</td>\n      <td>0.0</td>\n      <td>0.0</td>\n      <td>0.0</td>\n    </tr>\n    <tr>\n      <th>1</th>\n      <td>2020-05-11</td>\n      <td>93</td>\n      <td>0.0</td>\n      <td>0.0</td>\n      <td>0.0</td>\n      <td>0.0</td>\n      <td>0.0</td>\n      <td>0.0</td>\n    </tr>\n    <tr>\n      <th>2</th>\n      <td>2020-05-25</td>\n      <td>105</td>\n      <td>0.0</td>\n      <td>0.0</td>\n      <td>0.0</td>\n      <td>0.0</td>\n      <td>0.0</td>\n      <td>0.0</td>\n    </tr>\n    <tr>\n      <th>3</th>\n      <td>2020-06-08</td>\n      <td>189</td>\n      <td>0.0</td>\n      <td>0.0</td>\n      <td>0.0</td>\n      <td>0.0</td>\n      <td>0.0</td>\n      <td>0.0</td>\n    </tr>\n    <tr>\n      <th>4</th>\n      <td>2020-06-22</td>\n      <td>255</td>\n      <td>0.0</td>\n      <td>0.0</td>\n      <td>0.0</td>\n      <td>0.0</td>\n      <td>0.0</td>\n      <td>0.0</td>\n    </tr>\n  </tbody>\n</table>\n</div>"
     },
     "execution_count": 9,
     "metadata": {},
     "output_type": "execute_result"
    }
   ],
   "source": [
    "rename_map = {'20I (Alpha, V1)':'Alpha',\n",
    "              '20H (Beta, V2)':'Beta',\n",
    "              '21B (Kappa)':'Kappa',\n",
    "              '21D (Eta)':'Eta',\n",
    "              '21F (Iota)':'Iota'}\n",
    "strain_df.rename(mapper=rename_map,inplace=True,axis=1)\n",
    "strain_df.head()"
   ],
   "metadata": {
    "collapsed": false,
    "pycharm": {
     "name": "#%%\n"
    }
   }
  },
  {
   "cell_type": "code",
   "execution_count": 10,
   "outputs": [
    {
     "data": {
      "text/plain": "[<matplotlib.collections.PolyCollection at 0x161a992ed90>,\n <matplotlib.collections.PolyCollection at 0x161a9976f70>,\n <matplotlib.collections.PolyCollection at 0x161a9976730>,\n <matplotlib.collections.PolyCollection at 0x161a9968fa0>,\n <matplotlib.collections.PolyCollection at 0x161a9968880>,\n <matplotlib.collections.PolyCollection at 0x161a997d430>]"
     },
     "execution_count": 10,
     "metadata": {},
     "output_type": "execute_result"
    },
    {
     "data": {
      "text/plain": "<Figure size 792x792 with 2 Axes>",
      "image/png": "[encoded data removed]"
     },
     "metadata": {
      "needs_background": "light"
     },
     "output_type": "display_data"
    }
   ],
   "source": [
    "fig,ax = plt.subplots(2,1,figsize=(11,11))\n",
    "normed_df = strain_df.iloc[:,2:].div(strain_df['total_sequences'],axis=0)\n",
    "normed_df.plot(ax=ax[0])\n",
    "ax[0].get_xaxis().set_visible(False)\n",
    "normed_df.index = pd.DatetimeIndex(strain_data['week'])\n",
    "ax[1].stackplot(normed_df.index,normed_df.transpose())"
   ],
   "metadata": {
    "collapsed": false,
    "pycharm": {
     "name": "#%%\n"
    }
   }
  },
  {
   "cell_type": "code",
   "execution_count": 48,
   "outputs": [],
   "source": [
    "normed_df.to_csv(path_or_buf='normalized_variant_freq.csv')"
   ],
   "metadata": {
    "collapsed": false,
    "pycharm": {
     "name": "#%%\n"
    }
   }
  },
  {
   "cell_type": "code",
   "execution_count": 13,
   "outputs": [],
   "source": [
    "normed_df_scaled = normed_df/normed_df.max().max()"
   ],
   "metadata": {
    "collapsed": false,
    "pycharm": {
     "name": "#%%\n"
    }
   }
  },
  {
   "cell_type": "code",
   "execution_count": 22,
   "outputs": [
    {
     "data": {
      "text/plain": "[<matplotlib.collections.PolyCollection at 0x161af3e54c0>,\n <matplotlib.collections.PolyCollection at 0x161af9afa60>,\n <matplotlib.collections.PolyCollection at 0x161af9af490>,\n <matplotlib.collections.PolyCollection at 0x161af9af790>,\n <matplotlib.collections.PolyCollection at 0x161af9a7730>,\n <matplotlib.collections.PolyCollection at 0x161af9a7fa0>]"
     },
     "execution_count": 22,
     "metadata": {},
     "output_type": "execute_result"
    },
    {
     "data": {
      "text/plain": "<Figure size 792x504 with 1 Axes>",
      "image/png": "[encoded data removed]"
     },
     "metadata": {
      "needs_background": "light"
     },
     "output_type": "display_data"
    }
   ],
   "source": [
    "normed_df_scaled.loc['2021-02-22':,'Delta'] = (1-normed_df_scaled.loc['2021-02-22':,'Beta'])\n",
    "fig, ax = plt.subplots(figsize = (11,7))\n",
    "ax.stackplot(normed_df_scaled.index,normed_df_scaled.transpose())"
   ],
   "metadata": {
    "collapsed": false,
    "pycharm": {
     "name": "#%%\n"
    }
   }
  },
  {
   "cell_type": "code",
   "execution_count": 24,
   "outputs": [],
   "source": [
    "normed_df_scaled.to_csv(path_or_buf='normalized_variant_freq_scaled.csv')"
   ],
   "metadata": {
    "collapsed": false,
    "pycharm": {
     "name": "#%%\n"
    }
   }
  }
 ],
 "metadata": {
  "kernelspec": {
   "name": "pycharm-c2d668a4",
   "language": "python",
   "display_name": "PyCharm (CovidModelling)"
  },
  "language_info": {
   "codemirror_mode": {
    "name": "ipython",
    "version": 2
   },
   "file_extension": ".py",
   "mimetype": "text/x-python",
   "name": "python",
   "nbconvert_exporter": "python",
   "pygments_lexer": "ipython2",
   "version": "2.7.6"
  }
 },
 "nbformat": 4,
 "nbformat_minor": 0
}